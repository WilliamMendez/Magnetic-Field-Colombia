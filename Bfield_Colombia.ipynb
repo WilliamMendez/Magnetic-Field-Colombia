{
 "cells": [
  {
   "cell_type": "code",
   "execution_count": 10,
   "metadata": {},
   "outputs": [],
   "source": [
    "import numpy as np\n",
    "import pandas as pd\n",
    "import matplotlib.pyplot as plt\n",
    "import itertools\n",
    "from scipy.interpolate import griddata"
   ]
  },
  {
   "cell_type": "markdown",
   "metadata": {},
   "source": [
    "# Calculating grid magnetic field in Colombia"
   ]
  },
  {
   "cell_type": "markdown",
   "metadata": {},
   "source": [
    "# This project magnetic field calculator. It uses is British Geological Survey (BGS) API web service for calculation.\n",
    "\n",
    "The web service makes the World Magnetic Model (WMM), the International Geomagnetic Reference Field (IGRF) and the BGS Global Geomagnetic Model (BGGM) available as a web service. The IGRF and WMM have no restrictions on use, the BGGM is only available to subscribers. The API provides options to select which model and revision to use. Values of the magnetic field at any point around the world can be retrieved for a given date. https://pypi.org/project/magnetic-field-calculator/"
   ]
  },
  {
   "cell_type": "code",
   "execution_count": 11,
   "metadata": {},
   "outputs": [],
   "source": [
    "from __init__ import MagneticFieldCalculator"
   ]
  },
  {
   "cell_type": "code",
   "execution_count": 12,
   "metadata": {},
   "outputs": [],
   "source": [
    "calculator=MagneticFieldCalculator()"
   ]
  },
  {
   "cell_type": "code",
   "execution_count": 13,
   "metadata": {},
   "outputs": [
    {
     "output_type": "execute_result",
     "data": {
      "text/plain": [
       "22522"
      ]
     },
     "metadata": {},
     "execution_count": 13
    }
   ],
   "source": [
    "calculator.calculate(latitude=4.22,longitude=-73.12,altitude=630)['field-value']['total-intensity']['value']"
   ]
  },
  {
   "cell_type": "markdown",
   "metadata": {},
   "source": [
    "# Reading SRTM data with Python\n",
    "Digital Elevation Model (DEM) provides elevation data for use in programs and analysis. These models have varied practical uses like line-of-sight and viewshed analysis. Shuttle Radar Topography Mission (SRTM), as the name suggests, is a research mission to produce a free DEM for general use. If you are like me, you hadn't heard about DEM before you actually had to use it. And, you will be amazed where they are being used. https://librenepal.com/article/reading-srtm-data-with-python/\n",
    "\n",
    "## File Name\n",
    "SRTM data file has a .hgt extension (a shortform for height ?) and its name defines its coverage. For example, a filename named N26E092.hgt contains elevation data that stretches from 26°N 92°E to 27°N 93°E\n",
    "\n",
    "## Data is available from:\n",
    "http://www.viewfinderpanoramas.org/Coverage%20map%20viewfinderpanoramas_org3.htm"
   ]
  },
  {
   "cell_type": "code",
   "execution_count": 19,
   "metadata": {},
   "outputs": [
    {
     "output_type": "stream",
     "name": "stdout",
     "text": [
      "0\n0\n"
     ]
    }
   ],
   "source": [
    "import os\n",
    "import json\n",
    "import numpy as np\n",
    "\n",
    "SAMPLES = 1201  # Change this to 3601 for SRTM1\n",
    "HGTDIR = 'hgt'  # All 'hgt' files will be kept here uncompressed\n",
    "\n",
    "\n",
    "def get_elevation(lon, lat):\n",
    "    hgt_file = get_file_name(lon, lat)\n",
    "    if hgt_file:\n",
    "        return read_elevation_from_file(hgt_file, lon, lat)\n",
    "    # Treat it as data void as in SRTM documentation\n",
    "    # if file is absent\n",
    "    return 0\n",
    "\n",
    "\n",
    "def read_elevation_from_file(hgt_file, lon, lat):\n",
    "    with open(\"C18\" + hgt_file, 'rb') as hgt_data:\n",
    "        # HGT is 16bit signed integer(i2) - big endian(>)\n",
    "        elevations = np.fromfile(hgt_data, np.dtype('>i2'), SAMPLES*SAMPLES)\\\n",
    "                                .reshape((SAMPLES, SAMPLES))\n",
    "\n",
    "        lat_row = int(round((lat - int(lat)) * (SAMPLES - 1), 0))\n",
    "        lon_row = int(round((lon - int(lon)) * (SAMPLES - 1), 0))\n",
    "\n",
    "        return elevations[SAMPLES - 1 - lat_row, lon_row].astype(int)\n",
    "\n",
    "def get_file_name(lon, lat):\n",
    "    \"\"\"\n",
    "    Returns filename such as N27E086.hgt, concatenated\n",
    "    with HGTDIR where these 'hgt' files are kept\n",
    "    \"\"\"\n",
    "\n",
    "    if lat >= 0:\n",
    "        ns = 'N'\n",
    "    elif lat < 0:\n",
    "        ns = 'S'\n",
    "\n",
    "    if lon >= 0:\n",
    "        ew = 'E'\n",
    "    elif lon < 0:\n",
    "        ew = 'W'\n",
    "\n",
    "    hgt_file = \"%(ns)s%(lat)02d%(ew)s%(lon)03d.hgt\" % {'lat': abs(lat), 'lon': abs(lon), 'ns': ns, 'ew': ew}\n",
    "    hgt_file_path = os.path.join(HGTDIR, hgt_file)\n",
    "    if os.path.isfile(hgt_file_path):\n",
    "        return hgt_file_path\n",
    "    else:\n",
    "        return None\n",
    "\n",
    "# Mt. Everest\n",
    "print(get_elevation(-73.2, 4.36))\n",
    "# Kanchanjunga\n",
    "print(get_elevation(88.146667, 27.7025))"
   ]
  },
  {
   "cell_type": "code",
   "execution_count": 20,
   "metadata": {},
   "outputs": [],
   "source": [
    "Npoints=50\n",
    "lon,lat=np.linspace(-80,-66,Npoints),np.linspace(4,12,Npoints)"
   ]
  },
  {
   "cell_type": "code",
   "execution_count": 26,
   "metadata": {},
   "outputs": [],
   "source": [
    "LAT,LON,ALT=[],[],[]\n",
    "for i, j in list(itertools.product(lon, lat)):\n",
    "    #print(i,j,get_elevation(i, j))\n",
    "    LAT.append(j)\n",
    "    LON.append(i)\n",
    "    ALT.append(get_elevation(i, j))\n",
    "LAT,LON,ALT=np.array(LAT),np.array(LON),np.array(ALT)"
   ]
  },
  {
   "cell_type": "code",
   "execution_count": 22,
   "metadata": {},
   "outputs": [
    {
     "output_type": "error",
     "ename": "ApiError",
     "evalue": "<urlopen error [WinError 10060] Se produjo un error durante el intento de conexión ya que la parte conectada no respondió adecuadamente tras un periodo de tiempo, o bien se produjo un error en la conexión establecida ya que el host conectado no ha podido responder>",
     "traceback": [
      "\u001b[1;31m---------------------------------------------------------------------------\u001b[0m",
      "\u001b[1;31mUnboundLocalError\u001b[0m                         Traceback (most recent call last)",
      "\u001b[1;32mc:\\Users\\elpin\\OneDrive\\Documentos\\Trabajos_U\\Fisica 2\\tareas\\campo\\Magnetic-Field-Colombia\\__init__.py\u001b[0m in \u001b[0;36mcalculate\u001b[1;34m(self, latitude, longitude, altitude, depth, radius, year, date, username, password)\u001b[0m\n\u001b[0;32m    153\u001b[0m         \u001b[1;32mtry\u001b[0m\u001b[1;33m:\u001b[0m\u001b[1;33m\u001b[0m\u001b[1;33m\u001b[0m\u001b[0m\n\u001b[1;32m--> 154\u001b[1;33m             \u001b[1;32mreturn\u001b[0m \u001b[0mresult\u001b[0m\u001b[1;33m[\u001b[0m\u001b[1;34m'geomagnetic-field-model-result'\u001b[0m\u001b[1;33m]\u001b[0m\u001b[1;33m\u001b[0m\u001b[1;33m\u001b[0m\u001b[0m\n\u001b[0m\u001b[0;32m    155\u001b[0m \u001b[1;33m\u001b[0m\u001b[0m\n",
      "\u001b[1;31mUnboundLocalError\u001b[0m: local variable 'result' referenced before assignment",
      "\nDuring handling of the above exception, another exception occurred:\n",
      "\u001b[1;31mApiError\u001b[0m                                  Traceback (most recent call last)",
      "\u001b[1;32m<ipython-input-22-71cb9bf92f87>\u001b[0m in \u001b[0;36m<module>\u001b[1;34m\u001b[0m\n\u001b[0;32m      1\u001b[0m \u001b[0mFIELD\u001b[0m\u001b[1;33m=\u001b[0m\u001b[1;33m[\u001b[0m\u001b[1;33m]\u001b[0m\u001b[1;33m\u001b[0m\u001b[1;33m\u001b[0m\u001b[0m\n\u001b[0;32m      2\u001b[0m \u001b[1;32mfor\u001b[0m \u001b[0mi\u001b[0m\u001b[1;33m,\u001b[0m \u001b[0mj\u001b[0m\u001b[1;33m,\u001b[0m \u001b[0mk\u001b[0m \u001b[1;32min\u001b[0m \u001b[0mzip\u001b[0m\u001b[1;33m(\u001b[0m\u001b[0mLON\u001b[0m\u001b[1;33m,\u001b[0m \u001b[0mLAT\u001b[0m\u001b[1;33m,\u001b[0m \u001b[0mALT\u001b[0m\u001b[1;33m)\u001b[0m\u001b[1;33m:\u001b[0m\u001b[1;33m\u001b[0m\u001b[1;33m\u001b[0m\u001b[0m\n\u001b[1;32m----> 3\u001b[1;33m     \u001b[0mFIELD\u001b[0m\u001b[1;33m.\u001b[0m\u001b[0mappend\u001b[0m\u001b[1;33m(\u001b[0m\u001b[0mcalculator\u001b[0m\u001b[1;33m.\u001b[0m\u001b[0mcalculate\u001b[0m\u001b[1;33m(\u001b[0m\u001b[0mlatitude\u001b[0m\u001b[1;33m=\u001b[0m\u001b[0mj\u001b[0m\u001b[1;33m,\u001b[0m\u001b[0mlongitude\u001b[0m\u001b[1;33m=\u001b[0m\u001b[0mi\u001b[0m\u001b[1;33m,\u001b[0m\u001b[0maltitude\u001b[0m\u001b[1;33m=\u001b[0m\u001b[0mk\u001b[0m\u001b[1;33m)\u001b[0m\u001b[1;33m[\u001b[0m\u001b[1;34m'field-value'\u001b[0m\u001b[1;33m]\u001b[0m\u001b[1;33m[\u001b[0m\u001b[1;34m'total-intensity'\u001b[0m\u001b[1;33m]\u001b[0m\u001b[1;33m[\u001b[0m\u001b[1;34m'value'\u001b[0m\u001b[1;33m]\u001b[0m\u001b[1;33m)\u001b[0m\u001b[1;33m\u001b[0m\u001b[1;33m\u001b[0m\u001b[0m\n\u001b[0m\u001b[0;32m      4\u001b[0m \u001b[0mFIELD\u001b[0m\u001b[1;33m=\u001b[0m\u001b[0mnp\u001b[0m\u001b[1;33m.\u001b[0m\u001b[0marray\u001b[0m\u001b[1;33m(\u001b[0m\u001b[0mFIELD\u001b[0m\u001b[1;33m)\u001b[0m\u001b[1;33m\u001b[0m\u001b[1;33m\u001b[0m\u001b[0m\n",
      "\u001b[1;32mc:\\Users\\elpin\\OneDrive\\Documentos\\Trabajos_U\\Fisica 2\\tareas\\campo\\Magnetic-Field-Colombia\\__init__.py\u001b[0m in \u001b[0;36mcalculate\u001b[1;34m(self, latitude, longitude, altitude, depth, radius, year, date, username, password)\u001b[0m\n\u001b[0;32m    165\u001b[0m \u001b[1;33m\u001b[0m\u001b[0m\n\u001b[0;32m    166\u001b[0m             \u001b[1;32melif\u001b[0m \u001b[0misinstance\u001b[0m\u001b[1;33m(\u001b[0m\u001b[0merror\u001b[0m\u001b[1;33m,\u001b[0m \u001b[0mURLError\u001b[0m\u001b[1;33m)\u001b[0m\u001b[1;33m:\u001b[0m\u001b[1;33m\u001b[0m\u001b[1;33m\u001b[0m\u001b[0m\n\u001b[1;32m--> 167\u001b[1;33m                 \u001b[1;32mraise\u001b[0m \u001b[0mApiError\u001b[0m\u001b[1;33m(\u001b[0m\u001b[0mstr\u001b[0m\u001b[1;33m(\u001b[0m\u001b[0merror\u001b[0m\u001b[1;33m)\u001b[0m\u001b[1;33m)\u001b[0m\u001b[1;33m\u001b[0m\u001b[1;33m\u001b[0m\u001b[0m\n\u001b[0m\u001b[0;32m    168\u001b[0m \u001b[1;33m\u001b[0m\u001b[0m\n\u001b[0;32m    169\u001b[0m             \u001b[1;32melif\u001b[0m \u001b[0misinstance\u001b[0m\u001b[1;33m(\u001b[0m\u001b[0merror\u001b[0m\u001b[1;33m,\u001b[0m \u001b[0mValueError\u001b[0m\u001b[1;33m)\u001b[0m\u001b[1;33m:\u001b[0m\u001b[1;33m\u001b[0m\u001b[1;33m\u001b[0m\u001b[0m\n",
      "\u001b[1;31mApiError\u001b[0m: <urlopen error [WinError 10060] Se produjo un error durante el intento de conexión ya que la parte conectada no respondió adecuadamente tras un periodo de tiempo, o bien se produjo un error en la conexión establecida ya que el host conectado no ha podido responder>"
     ]
    }
   ],
   "source": [
    "FIELD=[]\n",
    "for i, j, k in zip(LON, LAT, ALT):\n",
    "    FIELD.append(calculator.calculate(latitude=j,longitude=i,altitude=k)['field-value']['total-intensity']['value'])\n",
    "FIELD=np.array(FIELD)"
   ]
  },
  {
   "cell_type": "code",
   "execution_count": null,
   "metadata": {},
   "outputs": [],
   "source": [
    "plt.figure(figsize=(16,5))\n",
    "plt.subplot(121)\n",
    "plt.scatter(LON,LAT,c=ALT)\n",
    "plt.ylabel('Latitude')\n",
    "plt.xlabel('Longitude')\n",
    "cbar = plt.colorbar()\n",
    "cbar.set_label('Mean meters over sea level', rotation=270, labelpad=20)\n",
    "plt.subplot(122)\n",
    "plt.scatter(LON,LAT,c=FIELD)\n",
    "plt.ylabel('Latitude')\n",
    "plt.xlabel('Longitude')\n",
    "cbar = plt.colorbar()\n",
    "cbar.set_label('Magnetic field intensity (nT)', rotation=270, labelpad=20)\n",
    "plt.show()\n",
    "plt.savefig()"
   ]
  },
  {
   "cell_type": "code",
   "execution_count": 24,
   "metadata": {},
   "outputs": [
    {
     "output_type": "stream",
     "name": "stderr",
     "text": [
      "C:\\ProgramData\\Anaconda3\\lib\\site-packages\\matplotlib\\contour.py:1483: UserWarning: Warning: converting a masked element to nan.\n  self.zmax = float(z.max())\nC:\\ProgramData\\Anaconda3\\lib\\site-packages\\matplotlib\\contour.py:1484: UserWarning: Warning: converting a masked element to nan.\n  self.zmin = float(z.min())\nC:\\ProgramData\\Anaconda3\\lib\\site-packages\\matplotlib\\contour.py:1132: RuntimeWarning: invalid value encountered in less\n  under = np.nonzero(lev < self.zmin)[0]\nC:\\ProgramData\\Anaconda3\\lib\\site-packages\\matplotlib\\contour.py:1134: RuntimeWarning: invalid value encountered in greater\n  over = np.nonzero(lev > self.zmax)[0]\nC:\\ProgramData\\Anaconda3\\lib\\site-packages\\matplotlib\\contour.py:1163: RuntimeWarning: invalid value encountered in greater\n  inside = (self.levels > self.zmin) & (self.levels < self.zmax)\nC:\\ProgramData\\Anaconda3\\lib\\site-packages\\matplotlib\\contour.py:1163: RuntimeWarning: invalid value encountered in less\n  inside = (self.levels > self.zmin) & (self.levels < self.zmax)\n<ipython-input-24-02e67c11d782>:8: UserWarning: No contour levels were found within the data range.\n  CS2 = plt.contour(LON, LAT, zi, 15, cmap=plt.cm.rainbow)\n"
     ]
    },
    {
     "output_type": "error",
     "ename": "ValueError",
     "evalue": "different number of values and points",
     "traceback": [
      "\u001b[1;31m---------------------------------------------------------------------------\u001b[0m",
      "\u001b[1;31mValueError\u001b[0m                                Traceback (most recent call last)",
      "\u001b[1;32m<ipython-input-24-02e67c11d782>\u001b[0m in \u001b[0;36m<module>\u001b[1;34m\u001b[0m\n\u001b[0;32m     13\u001b[0m \u001b[0mcbar\u001b[0m\u001b[1;33m.\u001b[0m\u001b[0mset_label\u001b[0m\u001b[1;33m(\u001b[0m\u001b[1;34m'Mean meters over sea level'\u001b[0m\u001b[1;33m,\u001b[0m \u001b[0mrotation\u001b[0m\u001b[1;33m=\u001b[0m\u001b[1;36m270\u001b[0m\u001b[1;33m,\u001b[0m \u001b[0mlabelpad\u001b[0m\u001b[1;33m=\u001b[0m\u001b[1;36m20\u001b[0m\u001b[1;33m)\u001b[0m\u001b[1;33m\u001b[0m\u001b[1;33m\u001b[0m\u001b[0m\n\u001b[0;32m     14\u001b[0m \u001b[0mplt\u001b[0m\u001b[1;33m.\u001b[0m\u001b[0msubplot\u001b[0m\u001b[1;33m(\u001b[0m\u001b[1;36m122\u001b[0m\u001b[1;33m)\u001b[0m\u001b[1;33m\u001b[0m\u001b[1;33m\u001b[0m\u001b[0m\n\u001b[1;32m---> 15\u001b[1;33m \u001b[0mwi\u001b[0m \u001b[1;33m=\u001b[0m \u001b[0mgriddata\u001b[0m\u001b[1;33m(\u001b[0m\u001b[1;33m(\u001b[0m\u001b[0mLON\u001b[0m\u001b[1;33m,\u001b[0m \u001b[0mLAT\u001b[0m\u001b[1;33m)\u001b[0m\u001b[1;33m,\u001b[0m \u001b[0mFIELD\u001b[0m\u001b[1;33m,\u001b[0m \u001b[1;33m(\u001b[0m\u001b[0mLON\u001b[0m\u001b[1;33m[\u001b[0m\u001b[1;32mNone\u001b[0m\u001b[1;33m,\u001b[0m\u001b[1;33m:\u001b[0m\u001b[1;33m]\u001b[0m\u001b[1;33m,\u001b[0m \u001b[0mLAT\u001b[0m\u001b[1;33m[\u001b[0m\u001b[1;33m:\u001b[0m\u001b[1;33m,\u001b[0m\u001b[1;32mNone\u001b[0m\u001b[1;33m]\u001b[0m\u001b[1;33m)\u001b[0m\u001b[1;33m,\u001b[0m \u001b[0mmethod\u001b[0m\u001b[1;33m=\u001b[0m\u001b[1;34m'cubic'\u001b[0m\u001b[1;33m)\u001b[0m\u001b[1;33m\u001b[0m\u001b[1;33m\u001b[0m\u001b[0m\n\u001b[0m\u001b[0;32m     16\u001b[0m \u001b[0mwi\u001b[0m\u001b[1;33m[\u001b[0m\u001b[0mwi\u001b[0m\u001b[1;33m==\u001b[0m\u001b[1;36m0\u001b[0m\u001b[1;33m]\u001b[0m \u001b[1;33m=\u001b[0m \u001b[0mnp\u001b[0m\u001b[1;33m.\u001b[0m\u001b[0mnan\u001b[0m\u001b[1;33m\u001b[0m\u001b[1;33m\u001b[0m\u001b[0m\n\u001b[0;32m     17\u001b[0m \u001b[1;31m# Create the contour plot\u001b[0m\u001b[1;33m\u001b[0m\u001b[1;33m\u001b[0m\u001b[1;33m\u001b[0m\u001b[0m\n",
      "\u001b[1;32mC:\\ProgramData\\Anaconda3\\lib\\site-packages\\scipy\\interpolate\\ndgriddata.py\u001b[0m in \u001b[0;36mgriddata\u001b[1;34m(points, values, xi, method, fill_value, rescale)\u001b[0m\n\u001b[0;32m    220\u001b[0m         \u001b[1;32mreturn\u001b[0m \u001b[0mip\u001b[0m\u001b[1;33m(\u001b[0m\u001b[0mxi\u001b[0m\u001b[1;33m)\u001b[0m\u001b[1;33m\u001b[0m\u001b[1;33m\u001b[0m\u001b[0m\n\u001b[0;32m    221\u001b[0m     \u001b[1;32melif\u001b[0m \u001b[0mmethod\u001b[0m \u001b[1;33m==\u001b[0m \u001b[1;34m'cubic'\u001b[0m \u001b[1;32mand\u001b[0m \u001b[0mndim\u001b[0m \u001b[1;33m==\u001b[0m \u001b[1;36m2\u001b[0m\u001b[1;33m:\u001b[0m\u001b[1;33m\u001b[0m\u001b[1;33m\u001b[0m\u001b[0m\n\u001b[1;32m--> 222\u001b[1;33m         ip = CloughTocher2DInterpolator(points, values, fill_value=fill_value,\n\u001b[0m\u001b[0;32m    223\u001b[0m                                         rescale=rescale)\n\u001b[0;32m    224\u001b[0m         \u001b[1;32mreturn\u001b[0m \u001b[0mip\u001b[0m\u001b[1;33m(\u001b[0m\u001b[0mxi\u001b[0m\u001b[1;33m)\u001b[0m\u001b[1;33m\u001b[0m\u001b[1;33m\u001b[0m\u001b[0m\n",
      "\u001b[1;32minterpnd.pyx\u001b[0m in \u001b[0;36mscipy.interpolate.interpnd.CloughTocher2DInterpolator.__init__\u001b[1;34m()\u001b[0m\n",
      "\u001b[1;32minterpnd.pyx\u001b[0m in \u001b[0;36mscipy.interpolate.interpnd.NDInterpolatorBase.__init__\u001b[1;34m()\u001b[0m\n",
      "\u001b[1;32minterpnd.pyx\u001b[0m in \u001b[0;36mscipy.interpolate.interpnd._check_init_shape\u001b[1;34m()\u001b[0m\n",
      "\u001b[1;31mValueError\u001b[0m: different number of values and points"
     ]
    }
   ],
   "source": [
    "plt.figure(figsize=(16,5))\n",
    "\n",
    "# Interpolate for plotting\n",
    "plt.subplot(121)\n",
    "zi = griddata((LON, LAT), ALT, (LON[None,:], LAT[:,None]), method='cubic')\n",
    "zi[zi==0] = np.nan\n",
    "# Create the contour plot\n",
    "CS2 = plt.contour(LON, LAT, zi, 15, cmap=plt.cm.rainbow)\n",
    "CS = plt.contourf(LON, LAT, zi, 15, cmap=plt.cm.rainbow)\n",
    "plt.ylabel('Latitude')\n",
    "plt.xlabel('Longitude')\n",
    "cbar = plt.colorbar()\n",
    "cbar.set_label('Mean meters over sea level', rotation=270, labelpad=20)\n",
    "plt.subplot(122)\n",
    "wi = griddata((LON, LAT), FIELD, (LON[None,:], LAT[:,None]), method='cubic')\n",
    "wi[wi==0] = np.nan\n",
    "# Create the contour plot\n",
    "CS2 = plt.contour(LON, LAT, wi, 15, cmap=plt.cm.rainbow)\n",
    "CS = plt.contourf(LON, LAT, wi, 15, cmap=plt.cm.rainbow)\n",
    "plt.ylabel('Latitude')\n",
    "plt.xlabel('Longitude')\n",
    "cbar = plt.colorbar()\n",
    "cbar.set_label('Magnetic field intensity (nT)', rotation=270, labelpad=20)\n",
    "plt.show()\n",
    "plt.savefig()"
   ]
  },
  {
   "cell_type": "code",
   "execution_count": null,
   "metadata": {},
   "outputs": [],
   "source": []
  }
 ],
 "metadata": {
  "kernelspec": {
   "name": "python383jvsc74a57bd0b3ba2566441a7c06988d0923437866b63cedc61552a5af99d1f4fb67d367b25f",
   "display_name": "Python 3.8.3 64-bit ('base': conda)"
  },
  "language_info": {
   "codemirror_mode": {
    "name": "ipython",
    "version": 3
   },
   "file_extension": ".py",
   "mimetype": "text/x-python",
   "name": "python",
   "nbconvert_exporter": "python",
   "pygments_lexer": "ipython3",
   "version": "3.8.3"
  }
 },
 "nbformat": 4,
 "nbformat_minor": 4
}