{
 "cells": [
  {
   "cell_type": "code",
   "execution_count": null,
   "metadata": {},
   "outputs": [],
   "source": [
    "import numpy as np\n",
    "import pandas as pd\n",
    "import matplotlib.pyplot as plt\n",
    "import itertools\n",
    "from scipy.interpolate import griddata"
   ]
  },
  {
   "cell_type": "markdown",
   "metadata": {},
   "source": [
    "# Calculating grid magnetic field in Colombia"
   ]
  },
  {
   "cell_type": "markdown",
   "metadata": {},
   "source": [
    "# This project magnetic field calculator. It uses is British Geological Survey (BGS) API web service for calculation.\n",
    "\n",
    "The web service makes the World Magnetic Model (WMM), the International Geomagnetic Reference Field (IGRF) and the BGS Global Geomagnetic Model (BGGM) available as a web service. The IGRF and WMM have no restrictions on use, the BGGM is only available to subscribers. The API provides options to select which model and revision to use. Values of the magnetic field at any point around the world can be retrieved for a given date. https://pypi.org/project/magnetic-field-calculator/"
   ]
  },
  {
   "cell_type": "code",
   "execution_count": null,
   "metadata": {},
   "outputs": [],
   "source": [
    "try:\n",
    "    from magnetic_field_calculator import MagneticFieldCalculator\n",
    "except:\n",
    "    from __init__ import MagneticFieldCalculator"
   ]
  },
  {
   "cell_type": "code",
   "execution_count": null,
   "metadata": {},
   "outputs": [],
   "source": [
    "calculator=MagneticFieldCalculator()"
   ]
  },
  {
   "cell_type": "code",
   "execution_count": null,
   "metadata": {},
   "outputs": [],
   "source": [
    "calculator.calculate(latitude=4.22,longitude=-73.12,altitude=630)['field-value']['total-intensity']['value']"
   ]
  },
  {
   "cell_type": "markdown",
   "metadata": {},
   "source": [
    "# Reading SRTM data with Python\n",
    "Digital Elevation Model (DEM) provides elevation data for use in programs and analysis. These models have varied practical uses like line-of-sight and viewshed analysis. Shuttle Radar Topography Mission (SRTM), as the name suggests, is a research mission to produce a free DEM for general use. If you are like me, you hadn't heard about DEM before you actually had to use it. And, you will be amazed where they are being used. https://librenepal.com/article/reading-srtm-data-with-python/\n",
    "\n",
    "## File Name\n",
    "SRTM data file has a .hgt extension (a shortform for height ?) and its name defines its coverage. For example, a filename named N26E092.hgt contains elevation data that stretches from 26°N 92°E to 27°N 93°E\n",
    "\n",
    "## Data is available from:\n",
    "http://www.viewfinderpanoramas.org/Coverage%20map%20viewfinderpanoramas_org3.htm"
   ]
  },
  {
   "cell_type": "code",
   "execution_count": null,
   "metadata": {},
   "outputs": [],
   "source": [
    "import os\n",
    "import json\n",
    "import numpy as np\n",
    "\n",
    "SAMPLES = 1201  # Change this to 3601 for SRTM1\n",
    "HGTDIR = 'hgt'  # All 'hgt' files will be kept here uncompressed\n",
    "\n",
    "\n",
    "def get_elevation(lon, lat):\n",
    "    hgt_file = get_file_name(lon, lat)\n",
    "    if hgt_file:\n",
    "        return read_elevation_from_file(hgt_file, lon, lat)\n",
    "    # Treat it as data void as in SRTM documentation\n",
    "    # if file is absent\n",
    "    return 0\n",
    "\n",
    "\n",
    "def read_elevation_from_file(hgt_file, lon, lat):\n",
    "    with open(hgt_file, 'rb') as hgt_data:\n",
    "        # HGT is 16bit signed integer(i2) - big endian(>)\n",
    "        elevations = np.fromfile(hgt_data, np.dtype('>i2'), SAMPLES*SAMPLES)\\\n",
    "                                .reshape((SAMPLES, SAMPLES))\n",
    "\n",
    "        lat_row = int(round((lat - int(lat)) * (SAMPLES - 1), 0))\n",
    "        lon_row = int(round((lon - int(lon)) * (SAMPLES - 1), 0))\n",
    "\n",
    "        return elevations[SAMPLES - 1 - lat_row, lon_row].astype(int)\n",
    "\n",
    "def get_file_name(lon, lat):\n",
    "    \"\"\"\n",
    "    Returns filename such as N27E086.hgt, concatenated\n",
    "    with HGTDIR where these 'hgt' files are kept\n",
    "    \"\"\"\n",
    "\n",
    "    if lat >= 0:\n",
    "        ns = 'N'\n",
    "    elif lat < 0:\n",
    "        ns = 'S'\n",
    "\n",
    "    if lon >= 0:\n",
    "        ew = 'E'\n",
    "    elif lon < 0:\n",
    "        ew = 'W'\n",
    "\n",
    "    hgt_file = \"%(ns)s%(lat)02d%(ew)s%(lon)03d.hgt\" % {'lat': abs(lat), 'lon': abs(lon), 'ns': ns, 'ew': ew}\n",
    "    hgt_file_path = os.path.join(HGTDIR, hgt_file)\n",
    "    if os.path.isfile(hgt_file_path):\n",
    "        return hgt_file_path\n",
    "    else:\n",
    "        return None\n",
    "\n",
    "# Mt. Everest\n",
    "print(get_elevation(-73.2, 4.36))\n",
    "# Kanchanjunga\n",
    "print(get_elevation(88.146667, 27.7025))"
   ]
  },
  {
   "cell_type": "code",
   "execution_count": null,
   "metadata": {},
   "outputs": [],
   "source": [
    "Npoints=5\n",
    "lon,lat=np.linspace(-80,-66,Npoints),np.linspace(4,12,Npoints)"
   ]
  },
  {
   "cell_type": "code",
   "execution_count": null,
   "metadata": {},
   "outputs": [],
   "source": [
    "LAT,LON,ALT=[],[],[]\n",
    "for i, j in list(itertools.product(lon, lat)):\n",
    "    #print(i,j,get_elevation(i, j))\n",
    "    LAT.append(j)\n",
    "    LON.append(i)\n",
    "    ALT.append(get_elevation(i, j))\n",
    "LAT,LON,ALT=np.array(LAT),np.array(LON),np.array(ALT)"
   ]
  },
  {
   "cell_type": "code",
   "execution_count": null,
   "metadata": {},
   "outputs": [],
   "source": [
    "FIELD=[]\n",
    "for i, j, k in zip(LON, LAT, ALT):\n",
    "    FIELD.append(calculator.calculate(latitude=j,longitude=i,altitude=k)['field-value']['total-intensity']['value'])\n",
    "FIELD=np.array(FIELD)"
   ]
  },
  {
   "cell_type": "code",
   "execution_count": null,
   "metadata": {},
   "outputs": [],
   "source": [
    "plt.figure(figsize=(16,5))\n",
    "plt.subplot(121)\n",
    "plt.scatter(LON,LAT,c=ALT)\n",
    "plt.ylabel('Latitude')\n",
    "plt.xlabel('Longitude')\n",
    "cbar = plt.colorbar()\n",
    "cbar.set_label('Mean meters over sea level', rotation=270, labelpad=20)\n",
    "plt.subplot(122)\n",
    "plt.scatter(LON,LAT,c=FIELD)\n",
    "plt.ylabel('Latitude')\n",
    "plt.xlabel('Longitude')\n",
    "cbar = plt.colorbar()\n",
    "cbar.set_label('Magnetic field intensity (nT)', rotation=270, labelpad=20)\n",
    "plt.show()"
   ]
  },
  {
   "cell_type": "code",
   "execution_count": null,
   "metadata": {},
   "outputs": [],
   "source": [
    "plt.figure(figsize=(16,5))\n",
    "\n",
    "# Interpolate for plotting\n",
    "plt.subplot(121)\n",
    "zi = griddata((LON, LAT), ALT, (LON[None,:], LAT[:,None]), method='cubic')\n",
    "zi[zi==0] = np.nan\n",
    "# Create the contour plot\n",
    "CS2 = plt.contour(LON, LAT, zi, 15, cmap=plt.cm.rainbow)\n",
    "CS = plt.contourf(LON, LAT, zi, 15, cmap=plt.cm.rainbow)\n",
    "plt.ylabel('Latitude')\n",
    "plt.xlabel('Longitude')\n",
    "cbar = plt.colorbar()\n",
    "cbar.set_label('Mean meters over sea level', rotation=270, labelpad=20)\n",
    "plt.subplot(122)\n",
    "wi = griddata((LON, LAT), FIELD, (LON[None,:], LAT[:,None]), method='cubic')\n",
    "wi[wi==0] = np.nan\n",
    "# Create the contour plot\n",
    "CS2 = plt.contour(LON, LAT, wi, 15, cmap=plt.cm.rainbow)\n",
    "CS = plt.contourf(LON, LAT, wi, 15, cmap=plt.cm.rainbow)\n",
    "plt.ylabel('Latitude')\n",
    "plt.xlabel('Longitude')\n",
    "cbar = plt.colorbar()\n",
    "cbar.set_label('Magnetic field intensity (nT)', rotation=270, labelpad=20)\n",
    "plt.show()"
   ]
  },
  {
   "cell_type": "code",
   "execution_count": null,
   "metadata": {},
   "outputs": [],
   "source": []
  },
  {
   "cell_type": "code",
   "execution_count": null,
   "metadata": {},
   "outputs": [],
   "source": []
  }
 ],
 "metadata": {
  "kernelspec": {
   "name": "python383jvsc74a57bd0b3ba2566441a7c06988d0923437866b63cedc61552a5af99d1f4fb67d367b25f",
   "display_name": "Python 3.8.3 64-bit ('base': conda)"
  },
  "language_info": {
   "codemirror_mode": {
    "name": "ipython",
    "version": 3
   },
   "file_extension": ".py",
   "mimetype": "text/x-python",
   "name": "python",
   "nbconvert_exporter": "python",
   "pygments_lexer": "ipython3",
   "version": "3.8.3"
  }
 },
 "nbformat": 4,
 "nbformat_minor": 4
}